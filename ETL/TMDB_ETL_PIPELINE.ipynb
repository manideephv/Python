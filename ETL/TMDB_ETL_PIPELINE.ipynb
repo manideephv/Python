{
 "cells": [
  {
   "cell_type": "code",
   "execution_count": 69,
   "id": "551cd2e0",
   "metadata": {},
   "outputs": [],
   "source": [
    "import pandas as pd\n",
    "import requests\n",
    "import config"
   ]
  },
  {
   "cell_type": "code",
   "execution_count": 70,
   "id": "e46e4bd3",
   "metadata": {},
   "outputs": [],
   "source": [
    "API_KEY = config.api_key\n",
    "response_list = []\n",
    "\n",
    "for movie_id in range(550,556):\n",
    "    url = 'https://api.themoviedb.org/3/movie/{}?api_key={}'.format(movie_id, API_KEY)\n",
    "    r = requests.get(url)\n",
    "    response_list.append(r.json())"
   ]
  },
  {
   "cell_type": "code",
   "execution_count": 71,
   "id": "9ee548aa",
   "metadata": {},
   "outputs": [],
   "source": [
    "df = pd.DataFrame.from_dict(response_list)"
   ]
  },
  {
   "cell_type": "code",
   "execution_count": 72,
   "id": "7a50d99b",
   "metadata": {},
   "outputs": [],
   "source": [
    "genres_list = df['genres'].tolist()"
   ]
  },
  {
   "cell_type": "code",
   "execution_count": 73,
   "id": "599c1921",
   "metadata": {},
   "outputs": [],
   "source": [
    "flat_list = [item for sublist in genres_list for item in sublist]"
   ]
  },
  {
   "cell_type": "code",
   "execution_count": 74,
   "id": "36a53b11",
   "metadata": {},
   "outputs": [],
   "source": [
    "result  = []\n",
    "for l in genres_list:\n",
    "    r = []\n",
    "    for d in l:\n",
    "        r.append(d['name'])\n",
    "    result.append(r)\n",
    "df = df.assign(genres_all=result)"
   ]
  },
  {
   "cell_type": "code",
   "execution_count": 76,
   "id": "04e1f237",
   "metadata": {},
   "outputs": [],
   "source": [
    "df_genres = pd.DataFrame.from_records(flat_list).drop_duplicates()"
   ]
  },
  {
   "cell_type": "code",
   "execution_count": 77,
   "id": "df99dae4",
   "metadata": {},
   "outputs": [],
   "source": [
    "df_columns = ['budget', 'id','imdb_id', 'original_title', 'release_date', 'revenue', 'runtime']\n",
    "df_genre_columns = df_genres['name'].to_list()\n",
    "df_columns.extend(df_genre_columns)\n",
    "\n",
    "s = df['genres_all'].explode()\n",
    "df = df.join(pd.crosstab(s.index,s))\n"
   ]
  },
  {
   "cell_type": "markdown",
   "id": "bf7ad820",
   "metadata": {},
   "source": [
    "### Working with datetimes"
   ]
  },
  {
   "cell_type": "code",
   "execution_count": 78,
   "id": "944b7b9f",
   "metadata": {},
   "outputs": [],
   "source": [
    "df['release_date'] = pd.to_datetime(df['release_date'])\n",
    "df['day'] = df['release_date'].dt.day\n",
    "df['month'] = df['release_date'].dt.month\n",
    "df['year'] = df['release_date'].dt.year\n",
    "df['day_of_week'] = df['release_date'].dt.day_name()\n",
    "df_time_columns = ['id', 'release_date', 'day', 'month', 'year', 'day_of_week']"
   ]
  },
  {
   "cell_type": "markdown",
   "id": "c02f3cc6",
   "metadata": {},
   "source": [
    "### Load"
   ]
  },
  {
   "cell_type": "code",
   "execution_count": 79,
   "id": "21b0238f",
   "metadata": {},
   "outputs": [],
   "source": [
    "df[df_columns].to_csv('tmdb_movies.csv', index = False)\n",
    "df_genres.to_csv('tmdb_genres.csv', index = False)\n",
    "df[df_time_columns].to_csv('tmdb_datetimes.csv', index=False)"
   ]
  },
  {
   "cell_type": "code",
   "execution_count": null,
   "id": "72ff1b01",
   "metadata": {},
   "outputs": [],
   "source": []
  }
 ],
 "metadata": {
  "kernelspec": {
   "display_name": "Python 3",
   "language": "python",
   "name": "python3"
  },
  "language_info": {
   "codemirror_mode": {
    "name": "ipython",
    "version": 3
   },
   "file_extension": ".py",
   "mimetype": "text/x-python",
   "name": "python",
   "nbconvert_exporter": "python",
   "pygments_lexer": "ipython3",
   "version": "3.8.8"
  }
 },
 "nbformat": 4,
 "nbformat_minor": 5
}
